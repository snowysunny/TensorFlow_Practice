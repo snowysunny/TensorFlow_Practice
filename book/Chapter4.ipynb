{
 "cells": [
  {
   "cell_type": "code",
   "execution_count": 1,
   "metadata": {},
   "outputs": [
    {
     "name": "stdout",
     "output_type": "stream",
     "text": [
      "<bound method Tensor.eval of <tf.Tensor 'Mean:0' shape=() dtype=float32>>\n"
     ]
    }
   ],
   "source": [
    "import tensorflow as tf\n",
    "\n",
    "v = tf.constant([[1.0, 2.0, 3.0], [4.0, 5.0, 6.0]])\n",
    "print(tf.reduce_mean(v).eval)\n"
   ]
  },
  {
   "cell_type": "code",
   "execution_count": 13,
   "metadata": {},
   "outputs": [
    {
     "name": "stdout",
     "output_type": "stream",
     "text": [
      "[False False  True  True]\n",
      "[4. 3. 3. 4.]\n"
     ]
    }
   ],
   "source": [
    "import tensorflow as tf\n",
    "\n",
    "v1 = tf.constant([1.0, 2.0, 3.0, 4.0])\n",
    "v2 = tf.constant([4.0, 3.0, 2.0, 1.0])\n",
    "\n",
    "sess = tf.InteractiveSession()\n",
    "\n",
    "print(tf.greater(v1, v2).eval())\n",
    "\n",
    "print(tf.where(tf.greater(v1, v2), v1, v2).eval())\n",
    "\n",
    "sess.close()"
   ]
  },
  {
   "cell_type": "code",
   "execution_count": 32,
   "metadata": {},
   "outputs": [
    {
     "name": "stdout",
     "output_type": "stream",
     "text": [
      "[[1.0218611]\n",
      " [1.0385854]]\n"
     ]
    }
   ],
   "source": [
    "import tensorflow as tf\n",
    "from numpy.random import RandomState\n",
    "\n",
    "batch_size = 8\n",
    "\n",
    "# 两个输入节点\n",
    "x = tf.placeholder(tf.float32, shape=(None, 2), name=\"x-input\")\n",
    "# 回归问题一般只有一个输出节点\n",
    "# y_是真实的值，y是预测得到的值\n",
    "y_ = tf.placeholder(tf.float32, shape=(None, 1), name = \"y-input\")\n",
    "\n",
    "# 定义了一个单层的神经网络前向传播的过程，这里就是简单加权和\n",
    "w1 = tf.Variable(tf.random_normal([2, 1], stddev=1, seed = 1))\n",
    "y = tf.matmul(x, w1)\n",
    "\n",
    "# 定义预测多了和预测少了的成本\n",
    "\n",
    "loss_less = 10\n",
    "loss_more = 1\n",
    "loss = tf.reduce_sum(tf.where(tf.greater(y, y_), (y-y_) * loss_more, (y_ - y) * loss_less))\n",
    "train_step = tf.train.AdamOptimizer(0.01).minimize(loss)\n",
    "\n",
    "# 通过随机数生成一个模拟数据集\n",
    "rdm = RandomState(1)\n",
    "dataset_size = 128\n",
    "X = rdm.rand(dataset_size, 2)\n",
    "\n",
    "# 设置回归的正确值为两个输入和加上一个随机量。之所以要加还是那个一个随机量是为了加入不可预测的噪声，否则\n",
    "# 不同损失函数的意义就不大了，因为不同损失函数都会在能完全预测正确的时候最低。一般来说噪音为一个均值为0的小量\n",
    "# 所以这里的噪声设置为-0.05  --   0.05的随机数\n",
    "\n",
    "Y = [[x1 + x2 + rdm.rand()/10.0 -0.05] for (x1, x2) in X]\n",
    "\n",
    "# 训练神经网络\n",
    "with tf.Session() as sess:\n",
    "    tf.global_variables_initializer().run()\n",
    "    STEPS = 5000\n",
    "    for i in range(STEPS):\n",
    "        start = (i * batch_size) % dataset_size\n",
    "        end = min(start + batch_size, dataset_size)\n",
    "        sess.run(train_step, feed_dict={x: X[start:end], y_:Y[start: end]})\n",
    "    print(sess.run(w1))\n",
    "    \n",
    "\n"
   ]
  },
  {
   "cell_type": "code",
   "execution_count": 38,
   "metadata": {},
   "outputs": [
    {
     "name": "stdout",
     "output_type": "stream",
     "text": [
      "5\n",
      "Tensor(\"AddN_2:0\", shape=(), dtype=float32)\n"
     ]
    }
   ],
   "source": [
    "import tensorflow as tf\n",
    "\n",
    "# 获取一层神经网络边上的权重，并将这个权重的L2正则化损失加入名称为'losses'的集合中\n",
    "def get_weight(shape, lambdas):\n",
    "#     生成一个变量\n",
    "    var = tf.Variable(tf.random_normal(shape), dtype = tf.float32)\n",
    "    \n",
    "# add_to_collection函数将这个新生成变量的L2正则化损失项加入集合\n",
    "# 这个函数的第一个参数'losses'是集合的名字，第二个参数是要加入这个集合的内容\n",
    "    tf.add_to_collection('losses', tf.contrib.layers.l2_regularizer(lambdas)(var))\n",
    "# 返回生成的变量\n",
    "    return var\n",
    "\n",
    "x = tf.placeholder(tf.float32, shape=(None, 2))\n",
    "y_ = tf.placeholder(tf.float32, shape=(None, 1))\n",
    "batch_size = 8\n",
    "\n",
    "# 定义了每一层网络中节点的个数\n",
    "layer_dimension = [2, 10, 10, 10, 1]\n",
    "# 神经网络的层数\n",
    "n_layers = len(layer_dimension)\n",
    "\n",
    "# 这个变量维护前向传播时最深层的节点，开始的时候是输入层\n",
    "cur_layer = x\n",
    "# 当前层的节点个数\n",
    "in_dimension = layer_dimension[0]\n",
    "\n",
    "# 通过一个循环来生成5层全连接的神经网络结构\n",
    "for i in range(1, n_layers):\n",
    "#     layer_dimension[i]为下一层的节点个数\n",
    "    out_dimension = layer_dimension[i]\n",
    "#     生成当前层中权重的变量，并将这个变量的L2正则化损失加入计算图上的集合\n",
    "    weight = get_weight([in_dimension, out_dimension], 0.001)\n",
    "    bias = tf.Variable(tf.constant(0.1, shape=[out_dimension]))\n",
    "#     使用ReLU激活函数\n",
    "    cur_layer = tf.nn.relu(tf.matmul(cur_layer, weight) + bias)\n",
    "#     进入下一层之前将下一层的节点个数更新为当前节点个数\n",
    "    in_dimension = layer_dimension[i]\n",
    "    \n",
    "# 在定义神经网络前向传播的时候已经将所有的L2正则化损失加入了图上的集合，这里只需要计算刻画模型在训练数据上表现的损失函数\n",
    "\n",
    "mse_loss = tf.reduce_mean(tf.square(y_ - cur_layer))\n",
    "\n",
    "# 将均方误差损失函数加入损失集合\n",
    "tf.add_to_collection('losses', mse_loss)\n",
    "\n",
    "# get_collection返回一个列表，这个列表是所有这个集合中的元素。在这个样例中，这些元素就是损失函数的不同部分\n",
    "# 将它们加起来就可以得到最终的损失函数\n",
    "\n",
    "loss = tf.add_n(tf.get_collection('losses')) \n",
    "print(loss)"
   ]
  },
  {
   "cell_type": "code",
   "execution_count": 66,
   "metadata": {},
   "outputs": [
    {
     "name": "stdout",
     "output_type": "stream",
     "text": [
      "[0.0, 0.0]\n",
      "[5.0, 4.5]\n",
      "[10.0, 4.555]\n",
      "[10.0, 4.60945]\n"
     ]
    }
   ],
   "source": [
    "# 滑动平均模型\n",
    "import tensorflow as tf\n",
    "\n",
    "# 定义一个变量用于计算滑动平均，这个变量的初始值为0.注意这里手动指定了变量的类型为tf.float32,因为所有需要计算\n",
    "# 滑动平均的变量都必须是实数型\n",
    "\n",
    "v1 = tf.Variable(0, dtype=tf.float32)\n",
    "\n",
    "# 这里step变量模拟神经网络中迭代的轮数，可以用于动态控制衰减率\n",
    "step = tf.Variable(0, trainable=False)\n",
    "\n",
    "# 定义一个滑动平均的类（class）。初始化时给定了衰减率(0.99)和控制衰减率的变量step\n",
    "ema = tf.train.ExponentialMovingAverage(0.99, step)\n",
    "# 定义一个更新变量滑动平均的操作。这里需要给定一个列表，每次执行这个操作时，这个列表中的变量都会被更新\n",
    "maintain_averages_op = ema.apply([v1])\n",
    "\n",
    "with tf.Session() as sess:\n",
    "#     初始化所有变量\n",
    "    tf.global_variables_initializer().run()\n",
    "    \n",
    "#     通过ema.average(v1)获取滑动平均之后变量的取值。在初始化之后变量v1的值和v1的滑动平均都为0\n",
    "\n",
    "    print(sess.run([v1, ema.average(v1)]))      # 输出[0.0, 0.0]\n",
    "\n",
    "# 更新变量v1的值到5\n",
    "    sess.run(tf.assign(v1, 5))\n",
    "#     更新v1的滑动平均值，衰减率为min{0.99, (1+step)/(10+step) = 0.1} = 0.1，所以v1的滑动平均会被更新为0.1*0+0.9*5=4.5\n",
    "    sess.run(maintain_averages_op)\n",
    "    print(sess.run([v1, ema.average(v1)]))     # 输出[5.0, 4.5]\n",
    "    \n",
    "#     更新step的值为10000\n",
    "    sess.run(tf.assign(step, 10000))\n",
    "#     更新v1的值为10\n",
    "    sess.run(tf.assign(v1, 10))\n",
    "#     更新v1的滑动平均值。衰减率为min{0.99,(1+step+1)/(10+step) =0.999} =0.99，所以v1的滑动平均会被更新为0.99*4.5+0.01*10=4.555\n",
    "    sess.run(maintain_averages_op)\n",
    "    print(sess.run([v1, ema.average(v1)]))       #输出[10.0, 4.554998]\n",
    "          \n",
    "#     再次更新滑动平均值，得到的心滑动平均值为0.99*4.555+0.01*10=4.60945\n",
    "    sess.run(maintain_averages_op)\n",
    "    print(sess.run([v1, ema.average(v1)]))     # 输出[10.0, 4.6094499] "
   ]
  },
  {
   "cell_type": "code",
   "execution_count": 65,
   "metadata": {},
   "outputs": [
    {
     "name": "stdout",
     "output_type": "stream",
     "text": [
      "[0.0, 0.0]\n",
      "[5.0, 4.5]\n",
      "[10.0, 4.555]\n",
      "[10.0, 4.60945]\n"
     ]
    }
   ],
   "source": []
  }
 ],
 "metadata": {
  "kernelspec": {
   "display_name": "Python 3",
   "language": "python",
   "name": "python3"
  },
  "language_info": {
   "codemirror_mode": {
    "name": "ipython",
    "version": 3
   },
   "file_extension": ".py",
   "mimetype": "text/x-python",
   "name": "python",
   "nbconvert_exporter": "python",
   "pygments_lexer": "ipython3",
   "version": "3.6.3"
  }
 },
 "nbformat": 4,
 "nbformat_minor": 2
}
