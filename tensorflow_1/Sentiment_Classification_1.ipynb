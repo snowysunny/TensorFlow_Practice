{
 "cells": [
  {
   "cell_type": "markdown",
   "metadata": {},
   "source": [
    "# TensorFlow练习1： 对评论进行分类"
   ]
  },
  {
   "cell_type": "markdown",
   "metadata": {},
   "source": [
    "## 1. 引入包文件\n"
   ]
  },
  {
   "cell_type": "code",
   "execution_count": 79,
   "metadata": {
    "collapsed": true
   },
   "outputs": [],
   "source": [
    "#coding: utf8\n",
    "\n",
    "import numpy as np\n",
    "import tensorflow as tf\n",
    "import random\n",
    "import pickle\n",
    "from collections import Counter\n",
    "\n",
    "import nltk\n",
    "\n",
    "from nltk.tokenize import word_tokenize\n",
    "\n",
    "# 词形还原(lemmatizer)，即把一个任何形式的英语单词还原到一般形式，与词根还原不同(stemmer)，后者是抽取一个单词的词根。 \n",
    "from nltk.stem import WordNetLemmatizer"
   ]
  },
  {
   "cell_type": "markdown",
   "metadata": {},
   "source": [
    "## 构建词汇词典\n",
    "读取文件，对评论进行词性还原等操作，然后每个词语出现的次数，挑选出出现次数少于2000但大于20的词语构建成词典"
   ]
  },
  {
   "cell_type": "code",
   "execution_count": 89,
   "metadata": {},
   "outputs": [
    {
     "name": "stdout",
     "output_type": "stream",
     "text": [
      "1065\n"
     ]
    }
   ],
   "source": [
    "pos_file = 'pos.txt'\n",
    "neg_file = 'neg.txt'\n",
    "\n",
    "# 读取文件，进行分词，\n",
    "def process_file(filename):\n",
    "    with open(filename, 'r', encoding='utf-8') as f:\n",
    "        lines = f.readlines()\n",
    "        # print(lines)\n",
    "        lex = []\n",
    "        for line in lines:\n",
    "#             print(line)\n",
    "            words = word_tokenize(line.lower())\n",
    "            lex += words\n",
    "        return lex\n",
    "#         print(lex)\n",
    "# res = process_file(pos_file)\n",
    "# print(res)\n",
    "\n",
    "# 創建词汇表\n",
    "def create_lexicon(pos_file, neg_file):\n",
    "    lex = []\n",
    "    \n",
    "    lex += process_file(pos_file)\n",
    "    lex += process_file(neg_file)\n",
    "    #  print(len(lex))\n",
    "    lemmarizer = WordNetLemmatizer()\n",
    "    # 词形还原\n",
    "    lex = [lemmarizer.lemmatize(word) for word in lex]\n",
    "    \n",
    "    word_count = Counter(lex)\n",
    "    # print(word_count)\n",
    "    lex = []\n",
    "    for word in word_count:\n",
    "        if word_count[word] < 2000 and word_count[word] > 20:\n",
    "            lex.append(word)\n",
    "        \n",
    "    return lex\n",
    "\n",
    "lex = create_lexicon(pos_file, neg_file)\n",
    "print(len(lex))\n"
   ]
  },
  {
   "cell_type": "markdown",
   "metadata": {},
   "source": [
    "## 将评论转换成矩阵表示\n",
    "将评论中的词出现在词典中构建成标记为1， 未出现的词标记为0\n",
    "```\n",
    "把每条评论转换为向量, 转换原理：\n",
    "假设lex为['woman', 'great', 'feel', 'actually', 'looking', 'latest', 'seen', 'is'] 当然实际上要大的多\n",
    "评论'i think this movie is great' 转换为 [0,1,0,0,0,0,0,1], 把评论中出现的字在lex中标记，出现过的标记为1，其余标记为0\n",
    " ```"
   ]
  },
  {
   "cell_type": "code",
   "execution_count": 81,
   "metadata": {},
   "outputs": [
    {
     "name": "stdout",
     "output_type": "stream",
     "text": [
      "10662\n",
      "[array([1., 1., 1., ..., 0., 0., 0.]), [1, 0]]\n"
     ]
    }
   ],
   "source": [
    "# 把每条评论转换为向量, 转换原理：\n",
    "# 假设lex为['woman', 'great', 'feel', 'actually', 'looking', 'latest', 'seen', 'is'] 当然实际上要大的多\n",
    "# 评论'i think this movie is great' 转换为 [0,1,0,0,0,0,0,1], 把评论中出现的字在lex中标记，出现过的标记为1，其余标记为0\n",
    "\n",
    "# lex:词汇表， review:评论 clf：评论对应的分类 [0,1]代表负面评价, [1,0]代表正面评价\n",
    "def string_to_vector(lex, review, clf):\n",
    "    words = word_tokenize(review.lower())\n",
    "    lemmatizer = WordNetLemmatizer()\n",
    "    words = [lemmatizer.lemmatize(word) for word in words]\n",
    "    \n",
    "    features = np.zeros(len(lex))\n",
    "    for word in words:\n",
    "        if word in lex:\n",
    "            features[lex.index(word)] = 1\n",
    "    return [features, clf]\n",
    "\n",
    "# clf = [0, 1]\n",
    "# lex = [\"he\", \"have\", \"a\", \"dog\"]\n",
    "# review = \"She have a dog\"\n",
    "# res = string_to_vector(lex, review, clf)\n",
    "# print(res)\n",
    "# lex李保存了文本中出现过的单词\n",
    "def normalize_dataset(lex):\n",
    "    dataset = []\n",
    "    \n",
    "    with open(pos_file, 'r') as f:\n",
    "        lines = f.readlines()\n",
    "        for line in lines:\n",
    "            one_sample = string_to_vector(lex, line, [1, 0])\n",
    "            dataset.append(one_sample)\n",
    "    \n",
    "    with open(neg_file, 'r') as f:\n",
    "        lines = f.readlines()\n",
    "        for line in lines:\n",
    "            one_sample = string_to_vector(lex, line, [0, 1])\n",
    "            dataset.append(one_sample)\n",
    "    return dataset\n",
    "    \n",
    "dataset = normalize_dataset(lex)\n",
    "print(len(dataset))\n",
    "print(dataset[0])\n",
    "random.shuffle(dataset)\n",
    "\n",
    "\n",
    "# with open('save.pickle', 'wb') as f:\n",
    "#     pickle.dump(dataset, f)\n",
    "        "
   ]
  },
  {
   "cell_type": "code",
   "execution_count": 82,
   "metadata": {
    "collapsed": true
   },
   "outputs": [],
   "source": [
    "# 取样本中的10%作为测试数据\n",
    "test_size = int(len(dataset) * 0.1)\n",
    "\n",
    "dataset = np.array(dataset)\n",
    "\n",
    "train_dataset = dataset[:-test_size]\n",
    "test_dataset = dataset[-test_size:]"
   ]
  },
  {
   "cell_type": "markdown",
   "metadata": {},
   "source": [
    "## 构建神经网络，本文中使用的两层隐藏层，参数如下："
   ]
  },
  {
   "cell_type": "code",
   "execution_count": 88,
   "metadata": {},
   "outputs": [
    {
     "name": "stdout",
     "output_type": "stream",
     "text": [
      "[1065, 1000, 1000, 2]\n"
     ]
    }
   ],
   "source": [
    "# 输出层\n",
    "n_input_layer = len(lex)\n",
    "\n",
    "# 隐藏层\n",
    "n_layer_1 = 1000\n",
    "n_layer_2 = 1000\n",
    "\n",
    "# 输出层\n",
    "n_output_layer = 2\n",
    "\n",
    "print([n_input_layer, n_layer_1, n_layer_2, n_output_layer])\n"
   ]
  },
  {
   "cell_type": "code",
   "execution_count": 84,
   "metadata": {
    "collapsed": true
   },
   "outputs": [],
   "source": [
    "def neural_network(data):\n",
    "    # 定义第一层“神经元”的权重和biases\n",
    "    layer_1_w_b = {'w_': tf.Variable(tf.random_normal([n_input_layer, n_layer_1])), 'b_': tf.Variable(tf.random_normal([n_layer_1]))}\n",
    "    # 定义第二层“神经元”的权重和biases\n",
    "    layer_2_w_b = {'w_': tf.Variable(tf.random_normal([n_layer_1, n_layer_2])), 'b_': tf.Variable(tf.random_normal([n_layer_2]))}\n",
    "    # 定义输出层“神经元”的权重和biases\n",
    "    layer_output_w_b = {'w_': tf.Variable(tf.random_normal([n_layer_2, n_output_layer])), 'b_': tf.Variable(tf.random_normal([n_output_layer]))}\n",
    "    \n",
    "    layer_1 = tf.add(tf.matmul(data, layer_1_w_b['w_']), layer_1_w_b['b_'])\n",
    "    layer_1 = tf.nn.relu(layer_1)\n",
    "    layer_2 = tf.add(tf.matmul(layer_1, layer_2_w_b['w_']), layer_2_w_b['b_'])\n",
    "    layer_2 = tf.nn.relu(layer_2)\n",
    "    layer_output = tf.add(tf.matmul(layer_2, layer_output_w_b['w_']), layer_output_w_b['b_'])\n",
    "    \n",
    "    return layer_output"
   ]
  },
  {
   "cell_type": "code",
   "execution_count": 85,
   "metadata": {
    "collapsed": true
   },
   "outputs": [],
   "source": [
    "# 每次使用50条数据进行训练\n",
    "batch_size = 50\n",
    "\n",
    "X = tf.placeholder('float', [None, len(train_dataset[0][0])])\n",
    "# [None, len(train_x)]代表数据的高和宽（矩阵）， 好处是如果数据不符合宽高，tensorflow会报错，不指定也可以\n",
    "\n",
    "Y = tf.placeholder('float')"
   ]
  },
  {
   "cell_type": "code",
   "execution_count": 86,
   "metadata": {},
   "outputs": [
    {
     "name": "stdout",
     "output_type": "stream",
     "text": [
      "0 :  60904.511962890625\n",
      "1 :  13923.341103553772\n",
      "2 :  5385.677576478862\n",
      "3 :  2836.649026087969\n",
      "4 :  2033.6653112982322\n",
      "5 :  1596.7483860661418\n",
      "6 :  1084.8012358154842\n",
      "7 :  583.6081699967997\n",
      "8 :  280.7399051677852\n",
      "9 :  146.3240720726634\n",
      "10 :  198.2349517698661\n",
      "11 :  92.6367470573328\n",
      "12 :  152.57086673134296\n",
      "accuracy:  0.6097561\n"
     ]
    }
   ],
   "source": [
    "# 使用数据训练神经网络\n",
    "def train_neural_network(X, Y):\n",
    "    predict = neural_network(X)\n",
    "    cost_func = tf.reduce_mean(tf.nn.softmax_cross_entropy_with_logits(logits=predict, labels=Y))\n",
    "#     optimizer = tf.train.AdamOptimizer().miniminze(cost_func)    # learning_rate 默认为0.001\n",
    "    optimizer = tf.train.AdamOptimizer().minimize(cost_func)  # learning rate 默认 0.001 \n",
    "    \n",
    "    epochs = 13\n",
    "    with tf.Session() as session:\n",
    "        session.run(tf.global_variables_initializer())\n",
    "        random.shuffle(train_dataset)\n",
    "        train_x = train_dataset[:, 0]\n",
    "        train_y = train_dataset[:, 1]\n",
    "        for epoch in range(epochs):\n",
    "            i = 0\n",
    "            epoch_loss = 0\n",
    "            while i < len(train_x):\n",
    "                start = i\n",
    "                end = i + batch_size\n",
    "                \n",
    "                batch_x = train_x[start: end]\n",
    "                batch_y = train_y[start: end]\n",
    "                \n",
    "                _, c = session.run([optimizer, cost_func], feed_dict = {X: list(batch_x), Y:list(batch_y)})\n",
    "                epoch_loss += c\n",
    "                i += batch_size\n",
    "            print(epoch, \": \", epoch_loss)\n",
    "        \n",
    "        test_x = test_dataset[:, 0]\n",
    "        test_y = test_dataset[:, 1]\n",
    "        correct = tf.equal(tf.argmax(predict, 1), tf.argmax(Y, 1))\n",
    "        accuracy = tf.reduce_mean(tf.cast(correct, 'float'))\n",
    "        print(\"accuracy: \", accuracy.eval({X:list(test_x), Y: list(test_y)}))\n",
    "train_neural_network(X, Y)"
   ]
  },
  {
   "cell_type": "code",
   "execution_count": null,
   "metadata": {
    "collapsed": true
   },
   "outputs": [],
   "source": []
  },
  {
   "cell_type": "code",
   "execution_count": 91,
   "metadata": {},
   "outputs": [
    {
     "name": "stdout",
     "output_type": "stream",
     "text": [
      "Counter({'c': 3, 'd': 3, 'b': 2, 'a': 1})\n",
      "<class 'collections.Counter'>\n",
      "a\n",
      "b\n",
      "b\n",
      "c\n",
      "c\n",
      "c\n",
      "d\n",
      "d\n",
      "d\n",
      "3\n"
     ]
    }
   ],
   "source": [
    "from collections import Counter\n",
    "a = Counter('abbcccddd')\n",
    "print(a)\n",
    "print(type(a))\n",
    "for i in a.elements():\n",
    "    print(i)\n",
    "print(a['c'])"
   ]
  }
 ],
 "metadata": {
  "kernelspec": {
   "display_name": "Python 3",
   "language": "python",
   "name": "python3"
  },
  "language_info": {
   "codemirror_mode": {
    "name": "ipython",
    "version": 3
   },
   "file_extension": ".py",
   "mimetype": "text/x-python",
   "name": "python",
   "nbconvert_exporter": "python",
   "pygments_lexer": "ipython3",
   "version": "3.6.3"
  }
 },
 "nbformat": 4,
 "nbformat_minor": 2
}
